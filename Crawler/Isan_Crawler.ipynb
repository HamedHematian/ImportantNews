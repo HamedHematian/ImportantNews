{
 "cells": [
  {
   "cell_type": "code",
   "execution_count": 1,
   "id": "b6f6bd08",
   "metadata": {},
   "outputs": [],
   "source": [
    "import requests\n",
    "from bs4 import BeautifulSoup\n",
    "import re\n",
    "from collections import defaultdict, namedtuple\n",
    "from tqdm import tqdm\n",
    "from unidecode import unidecode\n",
    "import os\n",
    "import pickle as pk\n",
    "import json\n",
    "import random\n",
    "import string\n",
    "from tqdm import tqdm"
   ]
  },
  {
   "cell_type": "code",
   "execution_count": 2,
   "id": "69bb40de",
   "metadata": {},
   "outputs": [
    {
     "data": {
      "text/plain": [
       "2001"
      ]
     },
     "execution_count": 2,
     "metadata": {},
     "output_type": "execute_result"
    }
   ],
   "source": [
    "with open('metadata.txt', 'r') as f:\n",
    "    start_page = int(f.read()) + 1\n",
    "start_page"
   ]
  },
  {
   "cell_type": "code",
   "execution_count": 3,
   "id": "8fc9cf53",
   "metadata": {},
   "outputs": [],
   "source": [
    "def id_generator(size=10, chars=string.ascii_uppercase + string.digits):\n",
    "    return ''.join(random.choice(chars) for _ in range(size))"
   ]
  },
  {
   "cell_type": "code",
   "execution_count": null,
   "id": "bf510235",
   "metadata": {},
   "outputs": [],
   "source": []
  },
  {
   "cell_type": "code",
   "execution_count": 4,
   "id": "68d911a8",
   "metadata": {},
   "outputs": [],
   "source": [
    "def extract(url):\n",
    "    try:\n",
    "        content = requests.get(url).content\n",
    "        soup = BeautifulSoup(content, \"html.parser\")\n",
    "        title = soup.find_all('h1', {'class': 'first-title'})[0].text\n",
    "        text = ' '.join([p.text for p in soup.find_all('div', {'itemprop': 'articleBody'})])\n",
    "        tags = soup.find_all('footer', {'class': 'tags'})[0].find_all('ul')[0].text.split('\\n')\n",
    "        tags = [tag for tag in tags if tag != '']\n",
    "        category = soup.find_all('div', {'class': 'service-title'})[0].text.replace('\\n', '').split()[1]\n",
    "        num_comment = 0\n",
    "    except:\n",
    "        title, text, tags, category, num_comment = '', '', '', [], 0\n",
    "    comments = []\n",
    "    return title, text, tags, category, num_comment, comments"
   ]
  },
  {
   "cell_type": "code",
   "execution_count": 5,
   "id": "388b842e",
   "metadata": {},
   "outputs": [],
   "source": [
    "def write_file(dirname, link, title, text, tags, category, num_comment, comments):\n",
    "    data = {\n",
    "        'link': link,\n",
    "        'title': title,\n",
    "        'text': text,\n",
    "        'tags': tags,\n",
    "        'category': category,\n",
    "        'num_comment': num_comment,\n",
    "        'comments': comments\n",
    "    }\n",
    "    filename = os.path.join(dirname, id_generator())\n",
    "    with open(os.path.join(filename), 'w', encoding=\"utf-8\") as f:\n",
    "        json.dump(data, f, ensure_ascii=False)"
   ]
  },
  {
   "cell_type": "code",
   "execution_count": 6,
   "id": "f5c6095d",
   "metadata": {},
   "outputs": [],
   "source": [
    "A = [i for i in range(1, 20000)]\n",
    "random.seed(10000)\n",
    "random.shuffle(A)"
   ]
  },
  {
   "cell_type": "code",
   "execution_count": 7,
   "id": "5fa2a503",
   "metadata": {},
   "outputs": [
    {
     "name": "stderr",
     "output_type": "stream",
     "text": [
      "80it [2:08:19, 79.08s/it] "
     ]
    }
   ],
   "source": [
    "links = []\n",
    "for idx, i in tqdm(enumerate(A[start_page: ])):\n",
    "    isna_main = requests.get(f'https://www.isna.ir/page/search.xhtml?dt=1401%2F12%2F27&q=%D8%A7%DB%8C%D8%B3%D9%86%D8%A7&a=0&df=&alltp=true&allpl=true&pi={i}&allsr=true&pageSize=20&sort=date&dr=all&allty=true').content\n",
    "    soup = BeautifulSoup(isna_main, \"html.parser\")\n",
    "    link_section = soup.find_all('div', {'class': 'items'})[0]\n",
    "    news_links = link_section.find_all('li')\n",
    "    news_links = ['https://www.isna.ir' + li.find_all('a')[0]['href'] for li in link_section.find_all('li')]\n",
    "    \n",
    "    for link in news_links:\n",
    "        links.append(link)\n",
    "        text, title, tags, category, num_comment, comments = extract(link)\n",
    "        write_file('news', link, title, text, tags, category, num_comment, comments)\n",
    "    with open('metadata.txt', 'w', encoding=\"utf-8\") as f:\n",
    "        f.write(str(start_page + idx))"
   ]
  },
  {
   "cell_type": "code",
   "execution_count": null,
   "id": "4ef49c61",
   "metadata": {},
   "outputs": [],
   "source": []
  },
  {
   "cell_type": "code",
   "execution_count": null,
   "id": "656acf6c",
   "metadata": {},
   "outputs": [],
   "source": []
  },
  {
   "cell_type": "code",
   "execution_count": null,
   "id": "0d38bb6c",
   "metadata": {},
   "outputs": [],
   "source": []
  }
 ],
 "metadata": {
  "kernelspec": {
   "display_name": "Python 3 (ipykernel)",
   "language": "python",
   "name": "python3"
  },
  "language_info": {
   "codemirror_mode": {
    "name": "ipython",
    "version": 3
   },
   "file_extension": ".py",
   "mimetype": "text/x-python",
   "name": "python",
   "nbconvert_exporter": "python",
   "pygments_lexer": "ipython3",
   "version": "3.11.2"
  }
 },
 "nbformat": 4,
 "nbformat_minor": 5
}
