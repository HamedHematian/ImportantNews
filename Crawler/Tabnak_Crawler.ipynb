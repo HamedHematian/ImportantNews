{
 "cells": [
  {
   "cell_type": "code",
   "execution_count": 1,
   "id": "b6f6bd08",
   "metadata": {},
   "outputs": [],
   "source": [
    "import requests\n",
    "from bs4 import BeautifulSoup\n",
    "import re\n",
    "from collections import defaultdict, namedtuple\n",
    "from tqdm import tqdm\n",
    "from unidecode import unidecode\n",
    "import os\n",
    "import pickle as pk\n",
    "import json\n",
    "import random\n",
    "import string\n",
    "from tqdm import tqdm"
   ]
  },
  {
   "cell_type": "code",
   "execution_count": 2,
   "id": "536c91f9",
   "metadata": {},
   "outputs": [
    {
     "data": {
      "text/plain": [
       "901"
      ]
     },
     "execution_count": 2,
     "metadata": {},
     "output_type": "execute_result"
    }
   ],
   "source": [
    "with open('metadata.txt', 'r') as f:\n",
    "    start_page = int(f.read()) + 1\n",
    "start_page"
   ]
  },
  {
   "cell_type": "code",
   "execution_count": 3,
   "id": "da8da4eb",
   "metadata": {},
   "outputs": [],
   "source": [
    "def id_generator(size=10, chars=string.ascii_uppercase + string.digits):\n",
    "    return ''.join(random.choice(chars) for _ in range(size))"
   ]
  },
  {
   "cell_type": "code",
   "execution_count": 4,
   "id": "68d911a8",
   "metadata": {},
   "outputs": [],
   "source": [
    "def extract(url):\n",
    "    try:\n",
    "        content = requests.get(url).content\n",
    "        soup = BeautifulSoup(content, \"html.parser\")\n",
    "        text = soup.find_all('div', {'class': 'body'})[0].text.strip()\n",
    "        title = soup.find_all('h1', {'class': 'Htag'})[0].text.strip()\n",
    "        tags = [a.text.strip() for a in soup.find_all('div', {'class': 'tag_items'})[0].find_all('a')]\n",
    "        comments = []\n",
    "        comments_ = soup.find_all('div', {'class': 'comments_item'})\n",
    "        for comment in comments_:\n",
    "            rating_up = int(comment.find_all('div', {'class': 'rating_up'})[0].text)\n",
    "            rating_down = int(comment.find_all('div', {'class': 'rating_down'})[0].text)\n",
    "            comment_text = comment.find_all('div', {'class': 'comments'})[0].text.replace('\\t', '').strip()\n",
    "            comments.append({\n",
    "                'text': comment_text,\n",
    "                'rating': [rating_down, rating_up]\n",
    "            })\n",
    "        num_comment = len(comments)\n",
    "        \n",
    "        try:\n",
    "            category = soup.find_all('div', {'class': 'news_path'})[0].text.split('»')[0].strip().split('،')[0]\n",
    "        except:\n",
    "            category = ''\n",
    "            \n",
    "    except:\n",
    "        return '', '', '', '', 0, []\n",
    "\n",
    "    return text, title, tags, category, num_comment, num_comment"
   ]
  },
  {
   "cell_type": "code",
   "execution_count": 5,
   "id": "d9c541a5",
   "metadata": {},
   "outputs": [],
   "source": [
    "def write_file(dirname, link, title, text, tags, category, num_comment, comments):\n",
    "    data = {\n",
    "        'link': link,\n",
    "        'title': title,\n",
    "        'text': text,\n",
    "        'tags': tags,\n",
    "        'category': category,\n",
    "        'num_comment': num_comment,\n",
    "        'comments': comments\n",
    "    }\n",
    "    filename = os.path.join(dirname, id_generator())\n",
    "    with open(os.path.join(filename), 'w', encoding=\"utf-8\") as f:\n",
    "        json.dump(data, f, ensure_ascii=False)"
   ]
  },
  {
   "cell_type": "code",
   "execution_count": 6,
   "id": "30046cce",
   "metadata": {},
   "outputs": [],
   "source": [
    "random.seed(12345)\n",
    "A = [i for i in range(1800)]"
   ]
  },
  {
   "cell_type": "code",
   "execution_count": 7,
   "id": "b8d9456a",
   "metadata": {},
   "outputs": [
    {
     "name": "stderr",
     "output_type": "stream",
     "text": [
      "2it [01:37, 48.79s/it]"
     ]
    },
    {
     "name": "stdout",
     "output_type": "stream",
     "text": [
      "8\n"
     ]
    },
    {
     "name": "stderr",
     "output_type": "stream",
     "text": [
      "3it [02:29, 50.35s/it]"
     ]
    },
    {
     "name": "stdout",
     "output_type": "stream",
     "text": [
      "69\n"
     ]
    },
    {
     "name": "stderr",
     "output_type": "stream",
     "text": [
      "7it [05:45, 48.83s/it]"
     ]
    },
    {
     "name": "stdout",
     "output_type": "stream",
     "text": [
      "25\n"
     ]
    },
    {
     "name": "stderr",
     "output_type": "stream",
     "text": [
      "8it [06:33, 48.55s/it]"
     ]
    },
    {
     "name": "stdout",
     "output_type": "stream",
     "text": [
      "3\n"
     ]
    },
    {
     "name": "stderr",
     "output_type": "stream",
     "text": [
      "14it [11:29, 49.22s/it]"
     ]
    },
    {
     "name": "stdout",
     "output_type": "stream",
     "text": [
      "43\n"
     ]
    },
    {
     "name": "stderr",
     "output_type": "stream",
     "text": [
      "21it [17:31, 51.41s/it]"
     ]
    },
    {
     "name": "stdout",
     "output_type": "stream",
     "text": [
      "3\n"
     ]
    },
    {
     "name": "stderr",
     "output_type": "stream",
     "text": [
      "25it [20:49, 49.22s/it]"
     ]
    },
    {
     "name": "stdout",
     "output_type": "stream",
     "text": [
      "22\n"
     ]
    },
    {
     "name": "stderr",
     "output_type": "stream",
     "text": [
      "29it [24:09, 49.46s/it]"
     ]
    },
    {
     "name": "stdout",
     "output_type": "stream",
     "text": [
      "23\n"
     ]
    },
    {
     "name": "stderr",
     "output_type": "stream",
     "text": [
      "32it [26:40, 50.06s/it]"
     ]
    },
    {
     "name": "stdout",
     "output_type": "stream",
     "text": [
      "36\n"
     ]
    },
    {
     "name": "stderr",
     "output_type": "stream",
     "text": [
      "37it [30:59, 51.93s/it]"
     ]
    },
    {
     "name": "stdout",
     "output_type": "stream",
     "text": [
      "16\n"
     ]
    },
    {
     "name": "stderr",
     "output_type": "stream",
     "text": [
      "38it [31:48, 51.15s/it]"
     ]
    },
    {
     "name": "stdout",
     "output_type": "stream",
     "text": [
      "3\n"
     ]
    },
    {
     "name": "stderr",
     "output_type": "stream",
     "text": [
      "42it [35:06, 49.93s/it]"
     ]
    },
    {
     "name": "stdout",
     "output_type": "stream",
     "text": [
      "24\n"
     ]
    },
    {
     "name": "stderr",
     "output_type": "stream",
     "text": [
      "45it [37:40, 50.71s/it]"
     ]
    },
    {
     "name": "stdout",
     "output_type": "stream",
     "text": [
      "23\n"
     ]
    },
    {
     "name": "stderr",
     "output_type": "stream",
     "text": [
      "48it [40:13, 51.29s/it]"
     ]
    },
    {
     "name": "stdout",
     "output_type": "stream",
     "text": [
      "22\n"
     ]
    },
    {
     "name": "stderr",
     "output_type": "stream",
     "text": [
      "51it [42:50, 52.26s/it]"
     ]
    },
    {
     "name": "stdout",
     "output_type": "stream",
     "text": [
      "33\n"
     ]
    },
    {
     "name": "stderr",
     "output_type": "stream",
     "text": [
      "87it [1:14:55, 50.54s/it]"
     ]
    },
    {
     "name": "stdout",
     "output_type": "stream",
     "text": [
      "5\n"
     ]
    },
    {
     "name": "stderr",
     "output_type": "stream",
     "text": [
      "101it [1:27:05, 53.99s/it]"
     ]
    },
    {
     "name": "stdout",
     "output_type": "stream",
     "text": [
      "4\n"
     ]
    },
    {
     "name": "stderr",
     "output_type": "stream",
     "text": [
      "107it [1:32:17, 52.56s/it]"
     ]
    },
    {
     "name": "stdout",
     "output_type": "stream",
     "text": [
      "23\n"
     ]
    },
    {
     "name": "stderr",
     "output_type": "stream",
     "text": [
      "118it [1:41:27, 50.39s/it]"
     ]
    },
    {
     "name": "stdout",
     "output_type": "stream",
     "text": [
      "4\n"
     ]
    },
    {
     "name": "stderr",
     "output_type": "stream",
     "text": [
      "140it [1:59:31, 49.15s/it]"
     ]
    },
    {
     "name": "stdout",
     "output_type": "stream",
     "text": [
      "16\n"
     ]
    },
    {
     "name": "stderr",
     "output_type": "stream",
     "text": [
      "166it [2:21:31, 49.47s/it]"
     ]
    },
    {
     "name": "stdout",
     "output_type": "stream",
     "text": [
      "9\n"
     ]
    },
    {
     "name": "stderr",
     "output_type": "stream",
     "text": [
      "182it [2:34:31, 48.35s/it]"
     ]
    },
    {
     "name": "stdout",
     "output_type": "stream",
     "text": [
      "162\n"
     ]
    },
    {
     "name": "stderr",
     "output_type": "stream",
     "text": [
      "194it [2:44:29, 49.78s/it]"
     ]
    },
    {
     "name": "stdout",
     "output_type": "stream",
     "text": [
      "3\n"
     ]
    },
    {
     "name": "stderr",
     "output_type": "stream",
     "text": [
      "205it [2:53:33, 49.11s/it]"
     ]
    },
    {
     "name": "stdout",
     "output_type": "stream",
     "text": [
      "35\n"
     ]
    },
    {
     "name": "stderr",
     "output_type": "stream",
     "text": [
      "220it [3:05:57, 48.95s/it]"
     ]
    },
    {
     "name": "stdout",
     "output_type": "stream",
     "text": [
      "3\n"
     ]
    },
    {
     "name": "stderr",
     "output_type": "stream",
     "text": [
      "224it [3:09:08, 48.19s/it]"
     ]
    },
    {
     "name": "stdout",
     "output_type": "stream",
     "text": [
      "29\n"
     ]
    },
    {
     "name": "stderr",
     "output_type": "stream",
     "text": [
      "229it [3:13:14, 48.74s/it]"
     ]
    },
    {
     "name": "stdout",
     "output_type": "stream",
     "text": [
      "23\n"
     ]
    },
    {
     "name": "stderr",
     "output_type": "stream",
     "text": [
      "248it [3:29:27, 52.55s/it]"
     ]
    },
    {
     "name": "stdout",
     "output_type": "stream",
     "text": [
      "38\n"
     ]
    },
    {
     "name": "stderr",
     "output_type": "stream",
     "text": [
      "253it [3:33:45, 51.23s/it]"
     ]
    },
    {
     "name": "stdout",
     "output_type": "stream",
     "text": [
      "15\n"
     ]
    },
    {
     "name": "stderr",
     "output_type": "stream",
     "text": [
      "261it [3:40:22, 49.90s/it]"
     ]
    },
    {
     "name": "stdout",
     "output_type": "stream",
     "text": [
      "8\n"
     ]
    },
    {
     "name": "stderr",
     "output_type": "stream",
     "text": [
      "272it [3:49:31, 50.00s/it]"
     ]
    },
    {
     "name": "stdout",
     "output_type": "stream",
     "text": [
      "12\n"
     ]
    },
    {
     "name": "stderr",
     "output_type": "stream",
     "text": [
      "286it [4:01:17, 50.29s/it]"
     ]
    },
    {
     "name": "stdout",
     "output_type": "stream",
     "text": [
      "12\n"
     ]
    },
    {
     "name": "stderr",
     "output_type": "stream",
     "text": [
      "291it [4:05:34, 50.85s/it]"
     ]
    },
    {
     "name": "stdout",
     "output_type": "stream",
     "text": [
      "20\n"
     ]
    },
    {
     "name": "stderr",
     "output_type": "stream",
     "text": [
      "292it [4:06:22, 50.02s/it]"
     ]
    },
    {
     "name": "stdout",
     "output_type": "stream",
     "text": [
      "16\n"
     ]
    },
    {
     "name": "stderr",
     "output_type": "stream",
     "text": [
      "300it [4:12:59, 49.24s/it]"
     ]
    },
    {
     "name": "stdout",
     "output_type": "stream",
     "text": [
      "124\n"
     ]
    },
    {
     "name": "stderr",
     "output_type": "stream",
     "text": [
      "312it [4:23:11, 51.27s/it]"
     ]
    },
    {
     "name": "stdout",
     "output_type": "stream",
     "text": [
      "7\n"
     ]
    },
    {
     "name": "stderr",
     "output_type": "stream",
     "text": [
      "316it [4:26:30, 50.45s/it]"
     ]
    },
    {
     "name": "stdout",
     "output_type": "stream",
     "text": [
      "18\n"
     ]
    },
    {
     "name": "stderr",
     "output_type": "stream",
     "text": [
      "321it [4:30:37, 49.58s/it]"
     ]
    },
    {
     "name": "stdout",
     "output_type": "stream",
     "text": [
      "20\n"
     ]
    },
    {
     "name": "stderr",
     "output_type": "stream",
     "text": [
      "346it [4:51:56, 51.54s/it]"
     ]
    },
    {
     "name": "stdout",
     "output_type": "stream",
     "text": [
      "54\n"
     ]
    },
    {
     "name": "stderr",
     "output_type": "stream",
     "text": [
      "359it [5:02:43, 50.09s/it]"
     ]
    },
    {
     "name": "stdout",
     "output_type": "stream",
     "text": [
      "5\n"
     ]
    },
    {
     "name": "stderr",
     "output_type": "stream",
     "text": [
      "372it [5:13:44, 50.91s/it]"
     ]
    },
    {
     "name": "stdout",
     "output_type": "stream",
     "text": [
      "23\n"
     ]
    },
    {
     "name": "stderr",
     "output_type": "stream",
     "text": [
      "422it [5:56:36, 52.03s/it]"
     ]
    }
   ],
   "source": [
    "links = []\n",
    "for idx, i in tqdm(enumerate(A[start_page: ])):\n",
    "    tabnak_main = requests.get(f'https://www.tabnak.ir/fa/search/{i}/-1/-1/50/%D8%AA%D8%A7%D8%A8%D9%86%D8%A7%DA%A9?from=1400/01/01&to=1401/12/20').content\n",
    "    soup = BeautifulSoup(tabnak_main, \"html.parser\")\n",
    "    news_links = soup.find_all('a', {'class': 'tag_title'})\n",
    "    for news_link in news_links:\n",
    "        link = 'https://www.tabnak.ir' + news_link['href']\n",
    "        links.append(link)\n",
    "        text, title, tags, category, num_comment, comments = extract(link)\n",
    "        \n",
    "        if num_comment > 2:\n",
    "            print(num_comment)\n",
    "            write_file('pos_news', link, title, text, tags, category, num_comment, comments)\n",
    "        else:\n",
    "            write_file('all_news', link, title, text, tags, category, num_comment, comments)\n",
    "    with open('metadata.txt', 'w', encoding=\"utf-8\") as f:\n",
    "        f.write(str(start_page + idx))"
   ]
  },
  {
   "cell_type": "code",
   "execution_count": null,
   "id": "13d33027",
   "metadata": {},
   "outputs": [],
   "source": []
  },
  {
   "cell_type": "code",
   "execution_count": null,
   "id": "a0075482",
   "metadata": {},
   "outputs": [],
   "source": []
  }
 ],
 "metadata": {
  "kernelspec": {
   "display_name": "Python 3 (ipykernel)",
   "language": "python",
   "name": "python3"
  },
  "language_info": {
   "codemirror_mode": {
    "name": "ipython",
    "version": 3
   },
   "file_extension": ".py",
   "mimetype": "text/x-python",
   "name": "python",
   "nbconvert_exporter": "python",
   "pygments_lexer": "ipython3",
   "version": "3.11.2"
  }
 },
 "nbformat": 4,
 "nbformat_minor": 5
}
