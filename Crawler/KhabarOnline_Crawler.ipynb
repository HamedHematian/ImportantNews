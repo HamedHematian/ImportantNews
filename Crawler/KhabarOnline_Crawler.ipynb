{
 "cells": [
  {
   "cell_type": "code",
   "execution_count": 1,
   "id": "b6f6bd08",
   "metadata": {},
   "outputs": [],
   "source": [
    "import requests\n",
    "from bs4 import BeautifulSoup\n",
    "import re\n",
    "from collections import defaultdict, namedtuple\n",
    "from tqdm import tqdm\n",
    "from unidecode import unidecode\n",
    "import os\n",
    "import pickle as pk\n",
    "import json\n",
    "import random\n",
    "import string\n",
    "from tqdm import tqdm"
   ]
  },
  {
   "cell_type": "code",
   "execution_count": 2,
   "id": "024bae74",
   "metadata": {},
   "outputs": [
    {
     "data": {
      "text/plain": [
       "1330"
      ]
     },
     "execution_count": 2,
     "metadata": {},
     "output_type": "execute_result"
    }
   ],
   "source": [
    "with open('metadata.txt', 'r') as f:\n",
    "    start_page = int(f.read()) + 1\n",
    "start_page"
   ]
  },
  {
   "cell_type": "code",
   "execution_count": 3,
   "id": "c5d76b16",
   "metadata": {},
   "outputs": [],
   "source": [
    "def id_generator(size=10, chars=string.ascii_uppercase + string.digits):\n",
    "    return ''.join(random.choice(chars) for _ in range(size))"
   ]
  },
  {
   "cell_type": "code",
   "execution_count": 4,
   "id": "68d911a8",
   "metadata": {},
   "outputs": [],
   "source": [
    "def extract(url):\n",
    "    content = requests.get(url).content\n",
    "    soup = BeautifulSoup(content, \"html.parser\")\n",
    "    try:\n",
    "        title = soup.find_all('h1', {'class': 'title'})[0].text.strip()\n",
    "    except:\n",
    "        title = ''\n",
    "    try:\n",
    "        text = soup.find_all('div', {'class': 'item-text'})[0].text\n",
    "    except:\n",
    "        text = ''\n",
    "    try:\n",
    "        lis = soup.find_all('section', {'class': 'box tags'})[0].find_all('li')\n",
    "        tags = [li.text for li in lis]\n",
    "    except:\n",
    "        tags = []\n",
    "    try:\n",
    "        comments = []\n",
    "        comments_ = soup.find_all('div', {'class': 'comments-list'})[0].find_all('li')\n",
    "        for comment_ in comments_:\n",
    "            plus = comment_.find_all('div', {'class':'rating'})[0].find_all('a')[0].text\n",
    "            minus = comment_.find_all('div', {'class':'rating'})[0].find_all('a')[1].text\n",
    "            comment_rating = [int(minus), int(plus)]\n",
    "            comment_text = comment_.find_all('div', 'comment-body')[0].text\n",
    "            comments.append({\n",
    "                'text': comment_text,\n",
    "                'rating': comment_rating\n",
    "            })\n",
    "        num_comment = len(comments)\n",
    "    except:\n",
    "        num_comment = 0\n",
    "        comments = []\n",
    "    try:\n",
    "        category = soup.find_all('ol', {'class': 'breadcrumb'})[0].find_all('li')[1].text\n",
    "    except:\n",
    "        category = ''\n",
    "    \n",
    "    return text, title, tags, category, num_comment, comments"
   ]
  },
  {
   "cell_type": "code",
   "execution_count": 5,
   "id": "83492b57",
   "metadata": {},
   "outputs": [],
   "source": [
    "def write_file(dirname, link, title, text, tags, category, num_comment, comments):\n",
    "    data = {\n",
    "        'link': link,\n",
    "        'title': title,\n",
    "        'text': text,\n",
    "        'tags': tags,\n",
    "        'category': category,\n",
    "        'num_comment': num_comment,\n",
    "        'comments': comments\n",
    "    }\n",
    "    filename = os.path.join(dirname, id_generator())\n",
    "    with open(os.path.join(filename), 'w', encoding=\"utf-8\") as f:\n",
    "        json.dump(data, f, ensure_ascii=False)"
   ]
  },
  {
   "cell_type": "code",
   "execution_count": 6,
   "id": "fbcbd9fd",
   "metadata": {},
   "outputs": [],
   "source": [
    "random.seed(12345)\n",
    "A = [i for i in range(2000)]\n",
    "random.seed(10000)\n",
    "random.shuffle(A)"
   ]
  },
  {
   "cell_type": "code",
   "execution_count": 7,
   "id": "81b815a2",
   "metadata": {},
   "outputs": [
    {
     "name": "stderr",
     "output_type": "stream",
     "text": [
      "0it [00:00, ?it/s]"
     ]
    },
    {
     "name": "stdout",
     "output_type": "stream",
     "text": [
      "22 https://www.khabaronline.ir/news/1541330/خبر-مهم-نوبخت-درباره-همسان-سازی-حقوق-بازنشستگان\n",
      "17 https://www.khabaronline.ir/news/1541348/واکنش-تند-اسرائیل-به-حضور-انریکه-مورا-در-مراسم-تحلیف-رئیسی\n",
      "21 https://www.khabaronline.ir/news/1541338/ارشا-اقدسی-را-شبانه-کشتند\n",
      "24 https://www.khabaronline.ir/news/1541303/ببینید-صحبت-های-تلخ-ارشا-اقدسی-درباره-مرگ-دوست-ندارم-روی\n"
     ]
    },
    {
     "name": "stderr",
     "output_type": "stream",
     "text": [
      "1it [00:08,  8.67s/it]"
     ]
    },
    {
     "name": "stdout",
     "output_type": "stream",
     "text": [
      "21 https://www.khabaronline.ir/news/1643424/ببینید-وعده-جالب-وزیر-به-مردم-خیال-مستاجرین-تخت-نگران-قرارداد\n",
      "4 https://www.khabaronline.ir/news/1643411/صداوسیما-گرفتار-روایت-های-یک-سویه-این-رونالدو-هندی-است\n",
      "10 https://www.khabaronline.ir/news/1643432/موجر-و-مستاجر-با-هم-دعوا-ندارند-هردوشان-با-دولت-دعوا-دارند\n",
      "33 https://www.khabaronline.ir/news/1643420/ببینید-درخواست-جالب-سردار-آزمون-از-پدر-زن-آینده-آناهیتا-خانم\n"
     ]
    },
    {
     "name": "stderr",
     "output_type": "stream",
     "text": [
      "2it [00:22, 11.79s/it]"
     ]
    },
    {
     "name": "stdout",
     "output_type": "stream",
     "text": [
      "12 https://www.khabaronline.ir/news/1643436/مابه-التفاوت-افزایش-حقوق-فروردین-و-اردیبهشت-بازنشستگان-کی-واریز\n",
      "6 https://www.khabaronline.ir/news/1724894/جدیدترین-قیمت-گوشت-گوسفندی-در-بازار-ران-گوسفندی-کیلویی-چند\n",
      "3 https://www.khabaronline.ir/news/1724914/مرندی-هفته-خوبی-برای-رژیم-صهیونیستی-نیست\n",
      "37 https://www.khabaronline.ir/news/1724708/شما-نظر-بدهید-آیا-در-معابر-و-خیابان-های-تان-با-خاموشی-روبه-رو\n",
      "3 https://www.khabaronline.ir/news/1724778/جانشین-کی-روش-مرد-همیشه-نایب-قهرمان\n"
     ]
    },
    {
     "name": "stderr",
     "output_type": "stream",
     "text": [
      "3it [00:33, 11.16s/it]"
     ]
    },
    {
     "name": "stdout",
     "output_type": "stream",
     "text": [
      "9 https://www.khabaronline.ir/news/1603592/سیگنال-منابع-غربی-به-بازار-ارز-دلار-چقدر-ریخت\n",
      "18 https://www.khabaronline.ir/news/1603638/وقتی-بابا-رفت-پرسپولیس-بی-خانمان-شد\n",
      "10 https://www.khabaronline.ir/news/343557/خبری-تازه-درباره-ساخت-فصل-چهارم-سریال-نون-خ\n",
      "35 https://www.khabaronline.ir/news/1603553/خبر-جالب-برای-بازنشستگان-امشب-جیب-بازنشسته-ها-پر-پول-می-شود\n"
     ]
    },
    {
     "name": "stderr",
     "output_type": "stream",
     "text": [
      "4it [00:44, 11.12s/it]"
     ]
    }
   ],
   "source": [
    "links = []\n",
    "for idx, i in tqdm(enumerate(A[start_page: ])):\n",
    "    news_links = list()\n",
    "    khabar_online_main = requests.get(f'https://www.khabaronline.ir/page/search.xhtml?q=%D8%AE%D8%A8%D8%B1&a=0&alltp=true&allpl=true&pi={i}&allsr=true&pageSize=20&allty=true').content\n",
    "    soup = BeautifulSoup(khabar_online_main, \"html.parser\")\n",
    "    divs = soup.find_all('div', {'class': 'desc'})\n",
    "    for div in divs:\n",
    "        link = div.find_all('h3')[0].find_all('a')[0]\n",
    "        news_links.append(link)\n",
    "    for news_link in news_links:\n",
    "        link = 'https://www.khabaronline.ir' + news_link['href']\n",
    "        links.append(link)\n",
    "        text, title, tags, category, num_comment, comments = extract(link)\n",
    "        if num_comment > 2:\n",
    "            print(num_comment, link)\n",
    "            write_file('pos_news', link, title, text, tags, category, num_comment, comments)\n",
    "        else:\n",
    "            write_file('all_news', link, title, text, tags, category, num_comment, comments)\n",
    "    with open('metadata.txt', 'w', encoding=\"utf-8\") as f:\n",
    "        f.write(str(start_page + idx))"
   ]
  },
  {
   "cell_type": "code",
   "execution_count": null,
   "id": "a915d48f",
   "metadata": {},
   "outputs": [],
   "source": []
  },
  {
   "cell_type": "code",
   "execution_count": null,
   "id": "6bfd54a4",
   "metadata": {},
   "outputs": [],
   "source": []
  }
 ],
 "metadata": {
  "kernelspec": {
   "display_name": "Python 3 (ipykernel)",
   "language": "python",
   "name": "python3"
  },
  "language_info": {
   "codemirror_mode": {
    "name": "ipython",
    "version": 3
   },
   "file_extension": ".py",
   "mimetype": "text/x-python",
   "name": "python",
   "nbconvert_exporter": "python",
   "pygments_lexer": "ipython3",
   "version": "3.11.2"
  }
 },
 "nbformat": 4,
 "nbformat_minor": 5
}
